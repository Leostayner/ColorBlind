{
 "cells": [
  {
   "cell_type": "markdown",
   "metadata": {},
   "source": [
    "# Funções"
   ]
  },
  {
   "cell_type": "code",
   "execution_count": 1,
   "metadata": {},
   "outputs": [],
   "source": [
    "def MultiplicarMatriz(matriz_P, matriz_D, imagem_P, imagem_D, size):\n",
    "    for i in range(size[0]):\n",
    "        for j in range(size[1]):\n",
    "            matriz_Auxiliar  = np.array([[imagem_P[i][j][0]],[imagem_P[i][j][1]],[imagem_P[i][j][2]]])\n",
    "            matriz_Auxiliar2 = np.array([[imagem_D[i][j][0]],[imagem_D[i][j][1]],[imagem_D[i][j][2]]])\n",
    "        \n",
    "        \n",
    "            matriz_Auxiliar  = np.matmul(matriz_P, matriz_Auxiliar)\n",
    "            matriz_Auxiliar2 = np.matmul(matriz_D, matriz_Auxiliar2)\n",
    "        \n",
    "            for k in range(3):    \n",
    "                imagem_P[i][j][k] = matriz_Auxiliar[k][0]\n",
    "                imagem_D[i][j][k] = matriz_Auxiliar2[k][0]\n",
    "    \n",
    "    return imagem_P, imagem_D"
   ]
  }
 ],
 "metadata": {
  "kernelspec": {
   "display_name": "Python 3",
   "language": "python",
   "name": "python3"
  },
  "language_info": {
   "codemirror_mode": {
    "name": "ipython",
    "version": 3
   },
   "file_extension": ".py",
   "mimetype": "text/x-python",
   "name": "python",
   "nbconvert_exporter": "python",
   "pygments_lexer": "ipython3",
   "version": "3.6.5"
  }
 },
 "nbformat": 4,
 "nbformat_minor": 2
}
